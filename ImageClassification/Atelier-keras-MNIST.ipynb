{
 "cells": [
  {
   "cell_type": "markdown",
   "metadata": {},
   "source": [
    "<center>\n",
    "<a href=\"http://www.insa-toulouse.fr/\" ><img src=\"http://www.math.univ-toulouse.fr/~besse/Wikistat/Images/logo-insa.jpg\" style=\"float:left; max-width: 120px; display: inline\" alt=\"INSA\"/></a> \n",
    "<a href=\"http://wikistat.fr/\" ><img src=\"http://www.math.univ-toulouse.fr/~besse/Wikistat/Images/wikistat.jpg\" style=\"max-width: 150px; display: inline\"  alt=\"Wikistat\"/></a>\n",
    "<a href=\"http://www.math.univ-toulouse.fr/\" ><img src=\"http://www.math.univ-toulouse.fr/~besse/Wikistat/Images/logo_imt.jpg\" width=400,  style=\"float:right;  display: inline\" alt=\"IMT\"/> </a>\n",
    "    \n",
    "</center>"
   ]
  },
  {
   "cell_type": "markdown",
   "metadata": {},
   "source": [
    "# High Dimensional & Deep Learning : Image classification  on MNIST dataset."
   ]
  },
  {
   "cell_type": "markdown",
   "metadata": {},
   "source": [
    "## Objectives\n",
    "In this TP you will learn to : \n",
    "* Write multilayer perceptron and convolutional network with `Keras`and `Tensorflow`\n",
    "* Understand how `convolutional`, `max pooling`, `stride` and `padding`layers work.\n",
    "* Use these models for image classification."
   ]
  },
  {
   "cell_type": "markdown",
   "metadata": {},
   "source": [
    "## Libraries"
   ]
  },
  {
   "cell_type": "code",
   "execution_count": 1,
   "metadata": {},
   "outputs": [],
   "source": [
    "%matplotlib inline \n",
    "import matplotlib.pyplot as plt\n",
    "import seaborn as sb\n",
    "sb.set()\n",
    "\n",
    "import pandas as pd\n",
    "import numpy as np\n",
    "import time\n",
    "\n",
    "import tensorflow.keras.utils as ku\n",
    "import tensorflow.keras.models as km\n",
    "import tensorflow.keras.layers as kl\n",
    "import tensorflow.keras.optimizers as ko\n",
    "import tensorflow.keras.preprocessing.image as k\n",
    "\n",
    "\n",
    "from sklearn.metrics import confusion_matrix"
   ]
  },
  {
   "cell_type": "code",
   "execution_count": 2,
   "metadata": {},
   "outputs": [
    {
     "data": {
      "text/plain": [
       "'1.13.1'"
      ]
     },
     "execution_count": 2,
     "metadata": {},
     "output_type": "execute_result"
    }
   ],
   "source": [
    "import tensorflow\n",
    "tensorflow.__version__"
   ]
  },
  {
   "cell_type": "markdown",
   "metadata": {},
   "source": [
    "This code lines allow you to check if your computer is using CPU or GPU ressources. <br>\n",
    "**Warning** : You won't be able to use GPU if another notebook is open and still uses GPU."
   ]
  },
  {
   "cell_type": "code",
   "execution_count": 3,
   "metadata": {},
   "outputs": [
    {
     "name": "stdout",
     "output_type": "stream",
     "text": [
      "[name: \"/device:CPU:0\"\n",
      "device_type: \"CPU\"\n",
      "memory_limit: 268435456\n",
      "locality {\n",
      "}\n",
      "incarnation: 7266599512983273275\n",
      ", name: \"/device:XLA_CPU:0\"\n",
      "device_type: \"XLA_CPU\"\n",
      "memory_limit: 17179869184\n",
      "locality {\n",
      "}\n",
      "incarnation: 9298803460932911284\n",
      "physical_device_desc: \"device: XLA_CPU device\"\n",
      ", name: \"/device:GPU:0\"\n",
      "device_type: \"GPU\"\n",
      "memory_limit: 10827497472\n",
      "locality {\n",
      "  bus_id: 1\n",
      "  links {\n",
      "  }\n",
      "}\n",
      "incarnation: 2787754253976705491\n",
      "physical_device_desc: \"device: 0, name: GeForce GTX 1080 Ti, pci bus id: 0000:65:00.0, compute capability: 6.1\"\n",
      ", name: \"/device:XLA_GPU:0\"\n",
      "device_type: \"XLA_GPU\"\n",
      "memory_limit: 17179869184\n",
      "locality {\n",
      "}\n",
      "incarnation: 1375917814693385525\n",
      "physical_device_desc: \"device: XLA_GPU device\"\n",
      "]\n"
     ]
    }
   ],
   "source": [
    "from tensorflow.python.client import device_lib\n",
    "print(device_lib.list_local_devices())"
   ]
  },
  {
   "cell_type": "markdown",
   "metadata": {},
   "source": [
    "## Dataset "
   ]
  },
  {
   "cell_type": "markdown",
   "metadata": {},
   "source": [
    "The dataset that will be used in this TP is the [MNIST DataBase](http://yann.lecun.com/exdb/mnist/).<br>\n",
    "It is composed of 70.000 images (60.000 for learning, 10.000 for test) of 28x28 pixels of handwritten digits from 0 to 9.<br>\n",
    "\n",
    "These data are directly available on the `Keras` library."
   ]
  },
  {
   "cell_type": "code",
   "execution_count": 4,
   "metadata": {},
   "outputs": [
    {
     "name": "stdout",
     "output_type": "stream",
     "text": [
      "Train data : 60000 images  (28/28 pixels)\n",
      "Test data : 10000 images  (28/28 pixels)\n"
     ]
    }
   ],
   "source": [
    "from tensorflow.keras.datasets import mnist\n",
    "\n",
    "(X_train, Y_train), (X_test, Y_test) = mnist.load_data()\n",
    "N_train, N_x_pixels, N_y_pixels = X_train.shape\n",
    "N_test = X_test.shape[0]\n",
    "N_classes = len(set(Y_train))\n",
    "\n",
    "print(\"Train data : %d images  (%d/%d pixels)\" %(N_train, N_x_pixels, N_y_pixels))\n",
    "print(\"Test data : %d images  (%d/%d pixels)\" %(N_test, N_x_pixels, N_y_pixels))"
   ]
  },
  {
   "cell_type": "code",
   "execution_count": 5,
   "metadata": {},
   "outputs": [
    {
     "data": {
      "image/png": "[encoded data removed]",
      "text/plain": [
       "<Figure size 216x216 with 1 Axes>"
      ]
     },
     "metadata": {
      "needs_background": "light"
     },
     "output_type": "display_data"
    }
   ],
   "source": [
    "sample_index = 45\n",
    "fig =plt.figure(figsize=(3, 3))\n",
    "ax = fig.add_subplot(1,1,1)\n",
    "ax.imshow(X_train[sample_index], cmap=plt.cm.gray_r, interpolation='nearest')\n",
    "ax.set_title(\"image label: %d\" % Y_train[sample_index])\n",
    "ax.grid(False)\n",
    "ax.axis('off')\n",
    "plt.show()"
   ]
  },
  {
   "cell_type": "markdown",
   "metadata": {},
   "source": [
    "### Image example"
   ]
  },
  {
   "cell_type": "markdown",
   "metadata": {},
   "source": [
    "## Image classification with Multi Layer Perceptron model."
   ]
  },
  {
   "cell_type": "markdown",
   "metadata": {},
   "source": [
    "We will first try to learn an image classifier with a MLP model with the following architecture.\n",
    "\n",
    "* A Dense layer with 128 neurons and *relu* activation function\n",
    "* A Dropout Layer with 20% drop rate\n",
    "* A Dense layer with 128 neurons and *relu* activation function\n",
    "* A Dropout Layer with 20% drop rate\n",
    "* A Dense layer with 10 neurons (Number of classes ) and *softmax* activation function"
   ]
  },
  {
   "cell_type": "markdown",
   "metadata": {},
   "source": [
    "### Data format\n",
    "\n",
    "Some modifications are required on the data to use them with our model. \n",
    "\n",
    "The first layer is a Dense Layer, which handles 1D vectors as an input. We must first reshape the 2D 28x28 images as a 1D $28*28=784$ vector."
   ]
  },
  {
   "cell_type": "code",
   "execution_count": 6,
   "metadata": {},
   "outputs": [
    {
     "name": "stdout",
     "output_type": "stream",
     "text": [
      "Dimensions of flatten train images : 60000 X 784\n",
      "Dimensions of flatten test images : 10000 X 784\n"
     ]
    }
   ],
   "source": [
    "X_train_flatten = X_train.reshape((N_train, N_x_pixels*N_y_pixels))\n",
    "X_test_flatten = X_test.reshape((N_test, N_x_pixels*N_y_pixels))\n",
    "N_dim_flatten = X_train_flatten.shape[1]\n",
    "print(\"Dimensions of flatten train images : %d X %d\" %(X_train_flatten.shape))\n",
    "print(\"Dimensions of flatten test images : %d X %d\" %(X_test_flatten.shape))"
   ]
  },
  {
   "cell_type": "markdown",
   "metadata": {},
   "source": [
    "### Architecture "
   ]
  },
  {
   "cell_type": "code",
   "execution_count": 7,
   "metadata": {},
   "outputs": [
    {
     "name": "stdout",
     "output_type": "stream",
     "text": [
      "WARNING:tensorflow:From /usr/local/insa/anaconda/envs/GPU/lib/python3.7/site-packages/tensorflow/python/ops/resource_variable_ops.py:435: colocate_with (from tensorflow.python.framework.ops) is deprecated and will be removed in a future version.\n",
      "Instructions for updating:\n",
      "Colocations handled automatically by placer.\n",
      "WARNING:tensorflow:From /usr/local/insa/anaconda/envs/GPU/lib/python3.7/site-packages/tensorflow/python/keras/layers/core.py:143: calling dropout (from tensorflow.python.ops.nn_ops) with keep_prob is deprecated and will be removed in a future version.\n",
      "Instructions for updating:\n",
      "Please use `rate` instead of `keep_prob`. Rate should be set to `rate = 1 - keep_prob`.\n",
      "_________________________________________________________________\n",
      "Layer (type)                 Output Shape              Param #   \n",
      "=================================================================\n",
      "dense (Dense)                (None, 128)               100480    \n",
      "_________________________________________________________________\n",
      "dropout (Dropout)            (None, 128)               0         \n",
      "_________________________________________________________________\n",
      "dense_1 (Dense)              (None, 128)               16512     \n",
      "_________________________________________________________________\n",
      "dropout_1 (Dropout)          (None, 128)               0         \n",
      "_________________________________________________________________\n",
      "dense_2 (Dense)              (None, 10)                1290      \n",
      "=================================================================\n",
      "Total params: 118,282\n",
      "Trainable params: 118,282\n",
      "Non-trainable params: 0\n",
      "_________________________________________________________________\n"
     ]
    }
   ],
   "source": [
    "# Définition du réseau\n",
    "model = km.Sequential()\n",
    "model.add(kl.Dense(128, # Number of neurons in layer - we specified a dense layer\n",
    "                   activation='relu', # Specifiying the activation function\n",
    "                   input_shape=(N_dim_flatten,))) # Dimension of input layer\n",
    "model.add(kl.Dropout(0.2)) # Dropout (disactivate some neurons with a probability of 20%)\n",
    "model.add(kl.Dense(128, # Second layer - 128 neurons - Dense layer\n",
    "                   activation='relu')) # Activation function\n",
    "model.add(kl.Dropout(0.2)) # Dropout (disactivate some neurons with a probability of 20%)\n",
    "model.add(kl.Dense(N_classes, # Final layer - as many neurons as classes\n",
    "                   activation='softmax')) # Softmax (in order to have a probability)\n",
    "# Réumé\n",
    "model.summary()"
   ]
  },
  {
   "cell_type": "markdown",
   "metadata": {},
   "source": [
    "**Q** The summary displays the number of pararameters/weigths of the model. Retrieve these values with the formulas seen in the course."
   ]
  },
  {
   "cell_type": "markdown",
   "metadata": {},
   "source": [
    "### Training"
   ]
  },
  {
   "cell_type": "markdown",
   "metadata": {},
   "source": [
    "You will now instantiate your model by defining :\n",
    "* An optimizer : `RMSprop`\n",
    "* a loss function : `Categorical crossentropy`\n",
    "* Metric : This argument is an option, it allows to compute the metric if you want to check the evolution of the training. Here we choose to compute the accuracy during the training.\n",
    "\n",
    "**Note** : In Keras you can choose either \"sparse_categorical_crossentropy\" or \"categorical_crossentropy\" loss. The former handel 1D (NX1) vectors where each entry contains the label of the data, i.e [0,3,5,9,3,4,...]. The latter handle only one-hot encoding of this vector, ie a 2D vectors (NXN_classes) matrices. Keras has a `to_categorical` functions which allows to convert a vector to its one-hot encoding representation."
   ]
  },
  {
   "cell_type": "code",
   "execution_count": 8,
   "metadata": {},
   "outputs": [],
   "source": [
    "model.compile(loss='sparse_categorical_crossentropy',\n",
    "              optimizer=ko.RMSprop(),\n",
    "              metrics=['accuracy'])"
   ]
  },
  {
   "cell_type": "code",
   "execution_count": 9,
   "metadata": {},
   "outputs": [
    {
     "name": "stdout",
     "output_type": "stream",
     "text": [
      "Train on 60000 samples, validate on 10000 samples\n",
      "Epoch 1/10\n",
      "60000/60000 [==============================] - 9s 143us/sample - loss: 5.4360 - acc: 0.6474 - val_loss: 1.9701 - val_acc: 0.8678\n",
      "Epoch 2/10\n",
      "60000/60000 [==============================] - 1s 20us/sample - loss: 2.2144 - acc: 0.8517 - val_loss: 1.4299 - val_acc: 0.9034\n",
      "Epoch 3/10\n",
      "60000/60000 [==============================] - 1s 22us/sample - loss: 1.7181 - acc: 0.8846 - val_loss: 1.3361 - val_acc: 0.9110\n",
      "Epoch 4/10\n",
      "60000/60000 [==============================] - 1s 23us/sample - loss: 1.5559 - acc: 0.8970 - val_loss: 1.1994 - val_acc: 0.9210\n",
      "Epoch 5/10\n",
      "60000/60000 [==============================] - 1s 23us/sample - loss: 1.4351 - acc: 0.9056 - val_loss: 1.0814 - val_acc: 0.9295\n",
      "Epoch 6/10\n",
      "60000/60000 [==============================] - 1s 23us/sample - loss: 1.3489 - acc: 0.9114 - val_loss: 0.9206 - val_acc: 0.9387\n",
      "Epoch 7/10\n",
      "60000/60000 [==============================] - 1s 24us/sample - loss: 1.2541 - acc: 0.9179 - val_loss: 0.9313 - val_acc: 0.9392\n",
      "Epoch 8/10\n",
      "60000/60000 [==============================] - 1s 24us/sample - loss: 1.1970 - acc: 0.9221 - val_loss: 0.9629 - val_acc: 0.9382\n",
      "Epoch 9/10\n",
      "60000/60000 [==============================] - 1s 24us/sample - loss: 1.1812 - acc: 0.9232 - val_loss: 0.8104 - val_acc: 0.9469\n",
      "Epoch 10/10\n",
      "60000/60000 [==============================] - 1s 21us/sample - loss: 1.1636 - acc: 0.9245 - val_loss: 0.9144 - val_acc: 0.9406\n"
     ]
    }
   ],
   "source": [
    "batch_size = 256\n",
    "epochs=10\n",
    "ts = time.time()\n",
    "history = model.fit(X_train_flatten, Y_train,\n",
    "                    batch_size=batch_size,\n",
    "                    epochs=epochs,\n",
    "                    verbose=1,\n",
    "                    validation_data=(X_test_flatten, Y_test))\n",
    "te = time.time()\n",
    "t_train_mpl = te-ts"
   ]
  },
  {
   "cell_type": "code",
   "execution_count": 10,
   "metadata": {},
   "outputs": [
    {
     "data": {
      "text/plain": [
       "73.41832375526428"
      ]
     },
     "execution_count": 10,
     "metadata": {},
     "output_type": "execute_result"
    }
   ],
   "source": [
    "t_train_mpl\n",
    "# First execution takes ~70s\n",
    "# 2nd execution takes 14s (Since the data has already been loaded to GPU)"
   ]
  },
  {
   "cell_type": "markdown",
   "metadata": {},
   "source": [
    "### Results"
   ]
  },
  {
   "cell_type": "code",
   "execution_count": 11,
   "metadata": {},
   "outputs": [
    {
     "name": "stdout",
     "output_type": "stream",
     "text": [
      "Test loss: 0.9143551892682786\n",
      "Test accuracy: 0.9406\n",
      "Time Running: 73.42 seconds\n"
     ]
    },
    {
     "data": {
      "image/png": "[encoded data removed]",
      "text/plain": [
       "<Figure size 504x432 with 2 Axes>"
      ]
     },
     "metadata": {
      "needs_background": "light"
     },
     "output_type": "display_data"
    }
   ],
   "source": [
    "score_mpl = model.evaluate(X_test_flatten, Y_test, verbose=0)\n",
    "predict_mpl = model.predict(X_test_flatten)\n",
    "print('Test loss:', score_mpl[0])\n",
    "print('Test accuracy:', score_mpl[1])\n",
    "print(\"Time Running: %.2f seconds\" %t_train_mpl )\n",
    "fig=plt.figure(figsize=(7,6))\n",
    "ax = fig.add_subplot(1,1,1)\n",
    "ax = sb.heatmap(pd.DataFrame(confusion_matrix(Y_test, predict_mpl.argmax(1))), annot=True, fmt=\"d\")\n"
   ]
  },
  {
   "cell_type": "markdown",
   "metadata": {},
   "source": [
    "**Question** What can you say about these results?\n",
    "\n",
    "**Exercise** Normalize the data in order to have values between 0 and 1 and run again the learning. What can you say about these results?"
   ]
  },
  {
   "cell_type": "code",
   "execution_count": 12,
   "metadata": {},
   "outputs": [
    {
     "name": "stdout",
     "output_type": "stream",
     "text": [
      "Train on 60000 samples, validate on 10000 samples\n",
      "Epoch 1/10\n",
      "60000/60000 [==============================] - 1s 23us/sample - loss: 0.7531 - acc: 0.8891 - val_loss: 0.2231 - val_acc: 0.9350\n",
      "Epoch 2/10\n",
      "60000/60000 [==============================] - 1s 24us/sample - loss: 0.2226 - acc: 0.9349 - val_loss: 0.1516 - val_acc: 0.9526\n",
      "Epoch 3/10\n",
      "60000/60000 [==============================] - 1s 22us/sample - loss: 0.1678 - acc: 0.9503 - val_loss: 0.1236 - val_acc: 0.9614\n",
      "Epoch 4/10\n",
      "60000/60000 [==============================] - 2s 25us/sample - loss: 0.1386 - acc: 0.9586 - val_loss: 0.1072 - val_acc: 0.9660\n",
      "Epoch 5/10\n",
      "60000/60000 [==============================] - 2s 25us/sample - loss: 0.1197 - acc: 0.9641 - val_loss: 0.0935 - val_acc: 0.9720\n",
      "Epoch 6/10\n",
      "60000/60000 [==============================] - 1s 24us/sample - loss: 0.1069 - acc: 0.9681 - val_loss: 0.0901 - val_acc: 0.9727\n",
      "Epoch 7/10\n",
      "60000/60000 [==============================] - 1s 25us/sample - loss: 0.0959 - acc: 0.9704 - val_loss: 0.0842 - val_acc: 0.9744\n",
      "Epoch 8/10\n",
      "60000/60000 [==============================] - 1s 24us/sample - loss: 0.0895 - acc: 0.9729 - val_loss: 0.0798 - val_acc: 0.9752\n",
      "Epoch 9/10\n",
      "60000/60000 [==============================] - 2s 25us/sample - loss: 0.0827 - acc: 0.9753 - val_loss: 0.0784 - val_acc: 0.9761\n",
      "Epoch 10/10\n",
      "60000/60000 [==============================] - 2s 25us/sample - loss: 0.0761 - acc: 0.9767 - val_loss: 0.0763 - val_acc: 0.9770\n",
      "Test loss: 0.07626886374335735\n",
      "Test accuracy: 0.977\n",
      "Time Running: 73.42 seconds\n"
     ]
    },
    {
     "data": {
      "image/png": "[encoded data removed]",
      "text/plain": [
       "<Figure size 504x432 with 2 Axes>"
      ]
     },
     "metadata": {
      "needs_background": "light"
     },
     "output_type": "display_data"
    }
   ],
   "source": [
    "# Retraining the model on normalized dataset\n",
    "\n",
    "batch_size_norm = 256\n",
    "epochs_norm=10\n",
    "ts_norm = time.time()\n",
    "X_train_flatten_norm = ku.normalize(X_train_flatten)\n",
    "X_test_flatten_norm = ku.normalize(X_test_flatten)\n",
    "\n",
    "history_norm = model.fit(X_train_flatten_norm, Y_train,\n",
    "                    batch_size=batch_size,\n",
    "                    epochs=epochs,\n",
    "                    verbose=1,\n",
    "                    validation_data=(X_test_flatten_norm, Y_test))\n",
    "te_norm = time.time()\n",
    "t_train_mpl_norm = te-ts\n",
    "\n",
    "# Results\n",
    "\n",
    "score_mpl_norm = model.evaluate(X_test_flatten_norm, Y_test, verbose=0)\n",
    "predict_mpl_norm = model.predict(X_test_flatten_norm)\n",
    "print('Test loss:', score_mpl_norm[0])\n",
    "print('Test accuracy:', score_mpl_norm[1])\n",
    "print(\"Time Running: %.2f seconds\" %t_train_mpl_norm )\n",
    "fig=plt.figure(figsize=(7,6))\n",
    "ax = fig.add_subplot(1,1,1)\n",
    "ax = sb.heatmap(pd.DataFrame(confusion_matrix(Y_test, predict_mpl_norm.argmax(1))), annot=True, fmt=\"d\")\n"
   ]
  },
  {
   "cell_type": "markdown",
   "metadata": {},
   "source": [
    "## Convolutional Layers\n",
    "\n",
    "In this part we will use convolution layers to build a convolutional classifier."
   ]
  },
  {
   "cell_type": "markdown",
   "metadata": {},
   "source": [
    "\n",
    "#### Data\n",
    "\n",
    "The convolution architecure takes as input images and no not 1D vectors. However, some data formating are still required.\n",
    "\n",
    "A third dimension is required : the `channels` dimension which will allow to describe each pixel. In our case this dimension's size is only 1 because the images are only defined with grey scale. However for colour images, each pixel is coded with several values (Images are generally encoded with 3 values (RGB channels)). \n",
    "\n",
    "Hence, we need to reshape the images from a 28x28 dimension to a 28X28X1 dimension"
   ]
  },
  {
   "cell_type": "code",
   "execution_count": 13,
   "metadata": {},
   "outputs": [
    {
     "data": {
      "text/plain": [
       "(60000, 28, 28, 1)"
      ]
     },
     "execution_count": 13,
     "metadata": {},
     "output_type": "execute_result"
    }
   ],
   "source": [
    "X_train_conv = np.expand_dims(X_train,axis=-1)\n",
    "X_test_conv = np.expand_dims(X_test,axis=-1)\n",
    "X_train_conv.shape"
   ]
  },
  {
   "cell_type": "markdown",
   "metadata": {
    "toc-hr-collapsed": false
   },
   "source": [
    "### Edge detection\n",
    "\n",
    "We will first check the transformation applied by a convolution layer.\n",
    "\n",
    "In the following code, we define a convolutional network with  only one filter for which we manually define the weights."
   ]
  },
  {
   "cell_type": "code",
   "execution_count": 14,
   "metadata": {},
   "outputs": [],
   "source": [
    "\n",
    "conv_filter = np.array([\n",
    "        [0.2, -0.2, 0],\n",
    "        [0.2, -0.2, 0],\n",
    "        [0.2, -0.2, 0],\n",
    "    ])\n",
    "\n",
    "def my_init_filter(shape, conv_filter = conv_filter, dtype=None, partition_info=None):\n",
    "    xf,yf = conv_filter.shape\n",
    "    array = conv_filter.reshape(xf, yf, 1, 1)\n",
    "    return array\n",
    "\n",
    "my_init_filter(0).shape\n",
    "\n",
    "conv_edge = km.Sequential([\n",
    "    kl.Conv2D(kernel_size=(3,3), # Size of filter\n",
    "              filters=1, # Number of filters in layer\n",
    "              kernel_initializer=my_init_filter, # Filter initializer \n",
    "              input_shape=(28, 28, 1)) # Input size\n",
    "])"
   ]
  },
  {
   "cell_type": "markdown",
   "metadata": {},
   "source": [
    " **Q** Note that in  `my_init_filter` two dimensions have been added to the conv filter. What do these dimensions represent?\n",
    " \n",
    " * The third dimention = number of channels\n",
    " * 4th dimention = number of filters\n",
    " \n",
    " The following code allows to display the image, the filter and the convoluted image."
   ]
  },
  {
   "cell_type": "code",
   "execution_count": 33,
   "metadata": {},
   "outputs": [
    {
     "data": {
      "image/png": "[encoded data removed]",
      "text/plain": [
       "<Figure size 1080x360 with 3 Axes>"
      ]
     },
     "metadata": {
      "needs_background": "light"
     },
     "output_type": "display_data"
    }
   ],
   "source": [
    "img_in = np.expand_dims(X_train_conv[1], 0)\n",
    "img_out = conv_edge.predict(img_in)\n",
    "\n",
    "fig, (ax0, ax1, ax2) = plt.subplots(ncols=3, figsize=(15, 5))\n",
    "ax0.imshow(img_in[0,:,:,0], cmap=\"binary\")\n",
    "ax0.set_title(\"Image originale\")\n",
    "ax0.grid(False)\n",
    "\n",
    "norm_conv_filter = (conv_filter-conv_filter.min())/conv_filter.max()\n",
    "ax1.imshow(norm_conv_filter.astype(np.uint8), cmap=\"binary\")\n",
    "ax1.set_title(\"Filtre\")\n",
    "ax1.grid(False)\n",
    "\n",
    "ax2.imshow(img_out[0,:,:,0].astype(np.uint8), cmap=\"binary\")\n",
    "ax2.set_title(\"Image Filtre\")\n",
    "ax2.grid(False)\n"
   ]
  },
  {
   "cell_type": "markdown",
   "metadata": {},
   "source": [
    "**Q** What do you see? Are the output image coherent according to the designed filter ?\n",
    "\n",
    "**Exercise** Change the code in order to test different filters (to detect horizontal edge, etc...)"
   ]
  },
  {
   "cell_type": "code",
   "execution_count": 15,
   "metadata": {},
   "outputs": [
    {
     "data": {
      "image/png": "[encoded data removed]",
      "text/plain": [
       "<Figure size 1080x360 with 3 Axes>"
      ]
     },
     "metadata": {
      "needs_background": "light"
     },
     "output_type": "display_data"
    }
   ],
   "source": [
    "\n",
    "conv_filter_h = np.array([\n",
    "        [-1, 0, 1],\n",
    "        [-2, 0, 2],\n",
    "        [-1, 0, 1],\n",
    "    ])\n",
    "\n",
    "def my_init_filter_h(shape, conv_filter = conv_filter_h, dtype=None, partition_info=None):\n",
    "    xf,yf = conv_filter.shape\n",
    "    array = conv_filter.reshape(xf, yf, 1, 1)\n",
    "    return array\n",
    "\n",
    "conv_edge_h = km.Sequential([\n",
    "    kl.Conv2D(kernel_size=(3,3), # Size of filter\n",
    "              filters=1, # Number of filters in layer\n",
    "              kernel_initializer=my_init_filter_h, # Filter initializer \n",
    "              input_shape=(28, 28, 1)) # Input size\n",
    "])\n",
    "\n",
    "img_in = np.expand_dims(X_train_conv[1], 0)\n",
    "img_out = conv_edge.predict(img_in)\n",
    "\n",
    "fig, (ax0, ax1, ax2) = plt.subplots(ncols=3, figsize=(15, 5))\n",
    "ax0.imshow(img_in[0,:,:,0], cmap=\"binary\")\n",
    "ax0.set_title(\"Image originale\")\n",
    "ax0.grid(False)\n",
    "\n",
    "norm_conv_filter = (conv_filter-conv_filter.min())/conv_filter.max()\n",
    "ax1.imshow(norm_conv_filter.astype(np.uint8), cmap=\"binary\")\n",
    "ax1.set_title(\"Filtre\")\n",
    "ax1.grid(False)\n",
    "\n",
    "ax2.imshow(img_out[0,:,:,0].astype(np.uint8), cmap=\"binary\")\n",
    "ax2.set_title(\"Image Filtre\")\n",
    "ax2.grid(False)\n"
   ]
  },
  {
   "cell_type": "markdown",
   "metadata": {},
   "source": [
    "### Strides and Padding\n",
    "\n",
    "We will now study the effect on `strides` and `padding` arguments on the image.\n"
   ]
  },
  {
   "cell_type": "code",
   "execution_count": 16,
   "metadata": {},
   "outputs": [],
   "source": [
    "conv_filter = np.array([\n",
    "        [0, 0, 0],\n",
    "        [0, 1, 0],\n",
    "        [0, 0, 0],\n",
    "    ])\n",
    "\n",
    "def my_init_filter(shape, conv_filter = conv_filter, dtype=None, partition_info = None):\n",
    "    xf,yf = conv_filter.shape\n",
    "    array = conv_filter.reshape(xf, yf, 1, 1)\n",
    "    return array\n",
    "my_init_filter(0).shape\n",
    "\n",
    "conv_sp = km.Sequential([\n",
    "    kl.Conv2D(kernel_size=(3,3), filters=1, kernel_initializer=my_init_filter, input_shape=(28, 28, 1),\n",
    "           strides=2, padding=\"SAME\") ])"
   ]
  },
  {
   "cell_type": "markdown",
   "metadata": {},
   "source": [
    "**Q** What is the effect of the convolutional filter defined here ? "
   ]
  },
  {
   "cell_type": "code",
   "execution_count": 22,
   "metadata": {},
   "outputs": [
    {
     "data": {
      "image/png": "[encoded data removed]",
      "text/plain": [
       "<Figure size 1080x360 with 3 Axes>"
      ]
     },
     "metadata": {
      "needs_background": "light"
     },
     "output_type": "display_data"
    }
   ],
   "source": [
    "img_in = np.expand_dims(X_train_conv[200], 0)\n",
    "img_out = conv_sp.predict(img_in)\n",
    "\n",
    "fig, (ax0, ax1, ax2) = plt.subplots(ncols=3, figsize=(15, 5))\n",
    "ax0.imshow(img_in[0,:,:,0].astype(np.uint8),\n",
    "           cmap=\"binary\");\n",
    "ax0.grid(False)\n",
    "\n",
    "norm_conv_filter = (conv_filter-conv_filter.min())/conv_filter.max()\n",
    "ax1.imshow(norm_conv_filter.astype(np.uint8),\n",
    "           cmap=\"binary\");\n",
    "ax1.grid(False)\n",
    "\n",
    "ax2.imshow(img_out[0,:,:,0].astype(np.uint8),\n",
    "           cmap=\"binary\");\n",
    "ax2.grid(False)"
   ]
  },
  {
   "cell_type": "markdown",
   "metadata": {},
   "source": [
    "**Exercise** Check the dimension of the output images. Are they coherent? <br>\n",
    "**Exercise** Change both *stride* and *padding* arguments and understand the effect of these changes."
   ]
  },
  {
   "cell_type": "markdown",
   "metadata": {},
   "source": [
    "### Max Pooling"
   ]
  },
  {
   "cell_type": "markdown",
   "metadata": {},
   "source": [
    "**Exercice** Write a similar code than above to check and understand the behaviour of the `max pooling` layer."
   ]
  },
  {
   "cell_type": "code",
   "execution_count": 25,
   "metadata": {},
   "outputs": [
    {
     "data": {
      "image/png": "[encoded data removed]",
      "text/plain": [
       "<Figure size 720x360 with 2 Axes>"
      ]
     },
     "metadata": {
      "needs_background": "light"
     },
     "output_type": "display_data"
    }
   ],
   "source": [
    "# %load solutions/max_pooling.py\n",
    "conv_mp = km.Sequential([ kl.MaxPool2D(pool_size=(2,2))])\n",
    "\n",
    "img_in = np.expand_dims(X_train_conv[1], 0)\n",
    "img_out = conv_mp.predict(img_in)\n",
    "\n",
    "fig, (ax0, ax1) = plt.subplots(ncols=2, figsize=(10, 5))\n",
    "ax0.imshow(img_in[0,:,:,0].astype(np.uint8),\n",
    "           cmap=\"binary\");\n",
    "ax0.grid(False)\n",
    "\n",
    "ax1.imshow(img_out[0,:,:,0].astype(np.uint8),\n",
    "           cmap=\"binary\");\n",
    "ax1.grid(False)"
   ]
  },
  {
   "cell_type": "markdown",
   "metadata": {},
   "source": [
    "**Questions** What are the dimension of the output image? Is this normal?"
   ]
  },
  {
   "cell_type": "markdown",
   "metadata": {},
   "source": [
    "## *Convolutional Network (ConvNet)*\n",
    "\n",
    "We will now build convolutional networks and see the performances on this kind of model on  image classification problems."
   ]
  },
  {
   "cell_type": "markdown",
   "metadata": {},
   "source": [
    "### LeNet5\n",
    "\n",
    "We first test the  LeNet5 model, proposed by LeCun et al."
   ]
  },
  {
   "cell_type": "code",
   "execution_count": 26,
   "metadata": {},
   "outputs": [
    {
     "name": "stdout",
     "output_type": "stream",
     "text": [
      "_________________________________________________________________\n",
      "Layer (type)                 Output Shape              Param #   \n",
      "=================================================================\n",
      "conv2d_3 (Conv2D)            (None, 24, 24, 6)         156       \n",
      "_________________________________________________________________\n",
      "max_pooling2d_2 (MaxPooling2 (None, 12, 12, 6)         0         \n",
      "_________________________________________________________________\n",
      "conv2d_4 (Conv2D)            (None, 8, 8, 16)          2416      \n",
      "_________________________________________________________________\n",
      "max_pooling2d_3 (MaxPooling2 (None, 4, 4, 16)          0         \n",
      "_________________________________________________________________\n",
      "flatten (Flatten)            (None, 256)               0         \n",
      "_________________________________________________________________\n",
      "dense_3 (Dense)              (None, 120)               30840     \n",
      "_________________________________________________________________\n",
      "dense_4 (Dense)              (None, 84)                10164     \n",
      "_________________________________________________________________\n",
      "dense_5 (Dense)              (None, 10)                850       \n",
      "=================================================================\n",
      "Total params: 44,426\n",
      "Trainable params: 44,426\n",
      "Non-trainable params: 0\n",
      "_________________________________________________________________\n"
     ]
    }
   ],
   "source": [
    "LeNet5model = km.Sequential()\n",
    "LeNet5model.add(kl.Conv2D(filters = 6, kernel_size = 5, strides = 1, activation = 'tanh',\n",
    "input_shape = (28,28,1)))\n",
    "LeNet5model.add(kl.MaxPooling2D(pool_size = 2, strides = 2))\n",
    "LeNet5model.add(kl.Conv2D(filters = 16, kernel_size = 5,strides = 1, activation = 'tanh'))\n",
    "LeNet5model.add(kl.MaxPooling2D(pool_size = 2, strides = 2))\n",
    "LeNet5model.add(kl.Flatten())\n",
    "LeNet5model.add(kl.Dense(units = 120, activation = 'tanh'))\n",
    "LeNet5model.add(kl.Dense(units = 84, activation = 'tanh'))\n",
    "LeNet5model.add(kl.Dense(units = 10, activation = 'softmax'))\n",
    "\n",
    "LeNet5model.summary()"
   ]
  },
  {
   "cell_type": "markdown",
   "metadata": {},
   "source": [
    "**Exercise** Retrieve 'manually' the number of parameters of this model.\n",
    "\n",
    "**Question** What can you say about the total number of parameters compared with the MLP model defined before? Which layer has the highest number of parameters?"
   ]
  },
  {
   "cell_type": "code",
   "execution_count": 27,
   "metadata": {},
   "outputs": [
    {
     "name": "stdout",
     "output_type": "stream",
     "text": [
      "Train on 60000 samples, validate on 10000 samples\n",
      "Epoch 1/30\n",
      "60000/60000 [==============================] - 4s 68us/sample - loss: 0.2751 - acc: 0.9197 - val_loss: 0.1119 - val_acc: 0.9661\n",
      "Epoch 2/30\n",
      "60000/60000 [==============================] - 4s 60us/sample - loss: 0.0963 - acc: 0.9694 - val_loss: 0.0859 - val_acc: 0.9732\n",
      "Epoch 3/30\n",
      "60000/60000 [==============================] - 4s 59us/sample - loss: 0.0695 - acc: 0.9776 - val_loss: 0.0654 - val_acc: 0.9787\n",
      "Epoch 4/30\n",
      "60000/60000 [==============================] - 4s 63us/sample - loss: 0.0541 - acc: 0.9829 - val_loss: 0.0699 - val_acc: 0.9775\n",
      "Epoch 5/30\n",
      "60000/60000 [==============================] - 4s 62us/sample - loss: 0.0443 - acc: 0.9859 - val_loss: 0.0578 - val_acc: 0.9825\n",
      "Epoch 6/30\n",
      "60000/60000 [==============================] - 4s 64us/sample - loss: 0.0359 - acc: 0.9889 - val_loss: 0.0520 - val_acc: 0.9838\n",
      "Epoch 7/30\n",
      "60000/60000 [==============================] - 4s 64us/sample - loss: 0.0303 - acc: 0.9899 - val_loss: 0.0536 - val_acc: 0.9826\n",
      "Epoch 8/30\n",
      "60000/60000 [==============================] - 4s 64us/sample - loss: 0.0245 - acc: 0.9924 - val_loss: 0.0540 - val_acc: 0.9833\n",
      "Epoch 9/30\n",
      "60000/60000 [==============================] - 4s 63us/sample - loss: 0.0219 - acc: 0.9931 - val_loss: 0.0509 - val_acc: 0.9844\n",
      "Epoch 10/30\n",
      "60000/60000 [==============================] - 4s 64us/sample - loss: 0.0186 - acc: 0.9940 - val_loss: 0.0582 - val_acc: 0.9829\n",
      "Epoch 11/30\n",
      "60000/60000 [==============================] - 4s 64us/sample - loss: 0.0150 - acc: 0.9955 - val_loss: 0.0536 - val_acc: 0.9836\n",
      "Epoch 12/30\n",
      "60000/60000 [==============================] - 4s 63us/sample - loss: 0.0114 - acc: 0.9967 - val_loss: 0.0549 - val_acc: 0.9843\n",
      "Epoch 13/30\n",
      "60000/60000 [==============================] - 4s 63us/sample - loss: 0.0102 - acc: 0.9971 - val_loss: 0.0510 - val_acc: 0.9852\n",
      "Epoch 14/30\n",
      "60000/60000 [==============================] - 4s 63us/sample - loss: 0.0087 - acc: 0.9975 - val_loss: 0.0546 - val_acc: 0.9848\n",
      "Epoch 15/30\n",
      "60000/60000 [==============================] - 4s 61us/sample - loss: 0.0065 - acc: 0.9984 - val_loss: 0.0527 - val_acc: 0.9840\n",
      "Epoch 16/30\n",
      "60000/60000 [==============================] - 4s 64us/sample - loss: 0.0050 - acc: 0.9991 - val_loss: 0.0568 - val_acc: 0.9847\n",
      "Epoch 17/30\n",
      "60000/60000 [==============================] - 4s 62us/sample - loss: 0.0045 - acc: 0.9990 - val_loss: 0.0538 - val_acc: 0.9858\n",
      "Epoch 18/30\n",
      "60000/60000 [==============================] - 4s 63us/sample - loss: 0.0031 - acc: 0.9995 - val_loss: 0.0606 - val_acc: 0.9836\n",
      "Epoch 19/30\n",
      "60000/60000 [==============================] - 4s 63us/sample - loss: 0.0031 - acc: 0.9994 - val_loss: 0.0600 - val_acc: 0.9847\n",
      "Epoch 20/30\n",
      "60000/60000 [==============================] - 4s 63us/sample - loss: 0.0023 - acc: 0.9996 - val_loss: 0.0561 - val_acc: 0.9854\n",
      "Epoch 21/30\n",
      "60000/60000 [==============================] - 4s 63us/sample - loss: 0.0020 - acc: 0.9998 - val_loss: 0.0574 - val_acc: 0.9860\n",
      "Epoch 22/30\n",
      "60000/60000 [==============================] - 4s 64us/sample - loss: 0.0017 - acc: 0.9998 - val_loss: 0.0577 - val_acc: 0.9859\n",
      "Epoch 23/30\n",
      "60000/60000 [==============================] - 4s 61us/sample - loss: 0.0015 - acc: 0.9998 - val_loss: 0.0626 - val_acc: 0.9843\n",
      "Epoch 24/30\n",
      "60000/60000 [==============================] - 4s 63us/sample - loss: 0.0014 - acc: 0.9998 - val_loss: 0.0603 - val_acc: 0.9854\n",
      "Epoch 25/30\n",
      "60000/60000 [==============================] - 4s 61us/sample - loss: 0.0011 - acc: 0.9998 - val_loss: 0.0615 - val_acc: 0.9853\n",
      "Epoch 26/30\n",
      "60000/60000 [==============================] - 4s 63us/sample - loss: 0.0011 - acc: 0.9999 - val_loss: 0.0614 - val_acc: 0.9857\n",
      "Epoch 27/30\n",
      "60000/60000 [==============================] - 4s 62us/sample - loss: 0.0016 - acc: 0.9997 - val_loss: 0.0620 - val_acc: 0.9861\n",
      "Epoch 28/30\n",
      "60000/60000 [==============================] - 4s 60us/sample - loss: 7.3146e-04 - acc: 0.9999 - val_loss: 0.0641 - val_acc: 0.9845\n",
      "Epoch 29/30\n",
      "60000/60000 [==============================] - 4s 62us/sample - loss: 5.9627e-04 - acc: 1.0000 - val_loss: 0.0635 - val_acc: 0.9850\n",
      "Epoch 30/30\n",
      "60000/60000 [==============================] - 4s 63us/sample - loss: 7.2329e-04 - acc: 0.9999 - val_loss: 0.0636 - val_acc: 0.9854\n"
     ]
    }
   ],
   "source": [
    "# Apprentissage\n",
    "batch_size=128\n",
    "epochs=30\n",
    "LeNet5model.compile(loss=\"sparse_categorical_crossentropy\",\n",
    "              optimizer=ko.Adadelta(),\n",
    "              metrics=['accuracy'])\n",
    "ts=time.time()\n",
    "LeNet5model.fit(X_train_conv, Y_train,\n",
    "          batch_size=batch_size,\n",
    "          epochs=epochs,\n",
    "          verbose=1,\n",
    "          validation_data=(X_test_conv, Y_test))\n",
    "te=time.time()\n",
    "t_train_conv = te-ts"
   ]
  },
  {
   "cell_type": "markdown",
   "metadata": {},
   "source": [
    "**Q** Why is the training time longer?"
   ]
  },
  {
   "cell_type": "markdown",
   "metadata": {},
   "source": [
    "#### Results"
   ]
  },
  {
   "cell_type": "code",
   "execution_count": 28,
   "metadata": {},
   "outputs": [
    {
     "name": "stdout",
     "output_type": "stream",
     "text": [
      "Test loss: 0.06363284989105995\n",
      "Test accuracy: 0.9854\n",
      "Time Running: 113.44 seconds\n"
     ]
    },
    {
     "data": {
      "image/png": "[encoded data removed]",
      "text/plain": [
       "<Figure size 504x432 with 2 Axes>"
      ]
     },
     "metadata": {
      "needs_background": "light"
     },
     "output_type": "display_data"
    }
   ],
   "source": [
    "score_conv = LeNet5model.evaluate(X_test_conv, Y_test, verbose=0)\n",
    "predict_conv = LeNet5model.predict(X_test_conv)\n",
    "print('Test loss:', score_conv[0])\n",
    "print('Test accuracy:', score_conv[1])\n",
    "print(\"Time Running: %.2f seconds\" %t_train_conv )\n",
    "\n",
    "fig=plt.figure(figsize=(7,6))\n",
    "ax = fig.add_subplot(1,1,1)\n",
    "ax = sb.heatmap(pd.DataFrame(confusion_matrix(Y_test, predict_conv.argmax(1))), annot=True, fmt=\"d\")\n"
   ]
  },
  {
   "cell_type": "markdown",
   "metadata": {},
   "source": [
    "### A more complex architecture\n",
    "\n",
    "#### Network\n",
    "\n",
    "We will now design a more complex architecture to try to improve the results of the classification :\n",
    "\n",
    "* A Conv2D layer with 32-3X3 filters and the `Relu` activation function.\n",
    "* A Conv2D layer with 642-3X3 filters and the `Relu` activation function.\n",
    "* A MaxPooling layer with a 2X2 window.\n",
    "* A Dropout layer with a 25% drop rate.\n",
    "* A flatten layer.\n",
    "* A Dense layer with 128 neurons  and the `Relu` activation function.\n",
    "* A Dropout layer with a 50% drop rate.\n",
    "* A Dense layer with 10 neurons  and the `softmax` activation function.\n",
    "\n",
    "\n",
    "**Exercise** Define this model and train it."
   ]
  },
  {
   "cell_type": "code",
   "execution_count": 30,
   "metadata": {},
   "outputs": [
    {
     "name": "stdout",
     "output_type": "stream",
     "text": [
      "_________________________________________________________________\n",
      "Layer (type)                 Output Shape              Param #   \n",
      "=================================================================\n",
      "conv2d_5 (Conv2D)            (None, 26, 26, 32)        320       \n",
      "_________________________________________________________________\n",
      "conv2d_6 (Conv2D)            (None, 24, 24, 64)        18496     \n",
      "_________________________________________________________________\n",
      "max_pooling2d_4 (MaxPooling2 (None, 12, 12, 64)        0         \n",
      "_________________________________________________________________\n",
      "dropout_2 (Dropout)          (None, 12, 12, 64)        0         \n",
      "_________________________________________________________________\n",
      "flatten_1 (Flatten)          (None, 9216)              0         \n",
      "_________________________________________________________________\n",
      "dense_6 (Dense)              (None, 128)               1179776   \n",
      "_________________________________________________________________\n",
      "dropout_3 (Dropout)          (None, 128)               0         \n",
      "_________________________________________________________________\n",
      "dense_7 (Dense)              (None, 10)                1290      \n",
      "=================================================================\n",
      "Total params: 1,199,882\n",
      "Trainable params: 1,199,882\n",
      "Non-trainable params: 0\n",
      "_________________________________________________________________\n",
      "Train on 60000 samples, validate on 10000 samples\n",
      "Epoch 1/30\n",
      "60000/60000 [==============================] - 4s 71us/sample - loss: 3.2151 - acc: 0.7489 - val_loss: 0.0782 - val_acc: 0.9753\n",
      "Epoch 2/30\n",
      "60000/60000 [==============================] - 4s 68us/sample - loss: 0.1225 - acc: 0.9650 - val_loss: 0.0532 - val_acc: 0.9832\n",
      "Epoch 3/30\n",
      "60000/60000 [==============================] - 4s 65us/sample - loss: 0.0888 - acc: 0.9748 - val_loss: 0.0473 - val_acc: 0.9846\n",
      "Epoch 4/30\n",
      "60000/60000 [==============================] - 4s 68us/sample - loss: 0.0669 - acc: 0.9802 - val_loss: 0.0483 - val_acc: 0.9858\n",
      "Epoch 5/30\n",
      "60000/60000 [==============================] - 4s 67us/sample - loss: 0.0577 - acc: 0.9830 - val_loss: 0.0378 - val_acc: 0.9881\n",
      "Epoch 6/30\n",
      "60000/60000 [==============================] - 4s 68us/sample - loss: 0.0492 - acc: 0.9851 - val_loss: 0.0388 - val_acc: 0.9884\n",
      "Epoch 7/30\n",
      "60000/60000 [==============================] - 4s 68us/sample - loss: 0.0462 - acc: 0.9864 - val_loss: 0.0317 - val_acc: 0.9905\n",
      "Epoch 8/30\n",
      "60000/60000 [==============================] - 4s 70us/sample - loss: 0.0392 - acc: 0.9882 - val_loss: 0.0450 - val_acc: 0.9881\n",
      "Epoch 9/30\n",
      "60000/60000 [==============================] - 4s 67us/sample - loss: 0.0360 - acc: 0.9894 - val_loss: 0.0364 - val_acc: 0.9896\n",
      "Epoch 10/30\n",
      "60000/60000 [==============================] - 4s 67us/sample - loss: 0.0341 - acc: 0.9897 - val_loss: 0.0363 - val_acc: 0.9894\n",
      "Epoch 11/30\n",
      "60000/60000 [==============================] - 4s 68us/sample - loss: 0.0307 - acc: 0.9911 - val_loss: 0.0374 - val_acc: 0.9899\n",
      "Epoch 12/30\n",
      "60000/60000 [==============================] - 4s 68us/sample - loss: 0.0281 - acc: 0.9916 - val_loss: 0.0417 - val_acc: 0.9892\n",
      "Epoch 13/30\n",
      "60000/60000 [==============================] - 4s 65us/sample - loss: 0.0278 - acc: 0.9920 - val_loss: 0.0381 - val_acc: 0.9902\n",
      "Epoch 14/30\n",
      "60000/60000 [==============================] - 4s 65us/sample - loss: 0.0251 - acc: 0.9923 - val_loss: 0.0422 - val_acc: 0.9904\n",
      "Epoch 15/30\n",
      "60000/60000 [==============================] - 4s 63us/sample - loss: 0.0233 - acc: 0.9929 - val_loss: 0.0430 - val_acc: 0.9901\n",
      "Epoch 16/30\n",
      "60000/60000 [==============================] - 4s 67us/sample - loss: 0.0217 - acc: 0.9931 - val_loss: 0.0399 - val_acc: 0.9912\n",
      "Epoch 17/30\n",
      "60000/60000 [==============================] - 4s 66us/sample - loss: 0.0220 - acc: 0.9929 - val_loss: 0.0385 - val_acc: 0.9908\n",
      "Epoch 18/30\n",
      "60000/60000 [==============================] - 4s 67us/sample - loss: 0.0200 - acc: 0.9938 - val_loss: 0.0396 - val_acc: 0.9910\n",
      "Epoch 19/30\n",
      "60000/60000 [==============================] - 4s 67us/sample - loss: 0.0204 - acc: 0.9940 - val_loss: 0.0413 - val_acc: 0.9905\n",
      "Epoch 20/30\n",
      "60000/60000 [==============================] - 4s 69us/sample - loss: 0.0196 - acc: 0.9942 - val_loss: 0.0437 - val_acc: 0.9914\n",
      "Epoch 21/30\n",
      "60000/60000 [==============================] - 4s 66us/sample - loss: 0.0176 - acc: 0.9947 - val_loss: 0.0459 - val_acc: 0.9909\n",
      "Epoch 22/30\n",
      "60000/60000 [==============================] - 4s 66us/sample - loss: 0.0189 - acc: 0.9941 - val_loss: 0.0451 - val_acc: 0.9904\n",
      "Epoch 23/30\n",
      "60000/60000 [==============================] - 4s 65us/sample - loss: 0.0183 - acc: 0.9945 - val_loss: 0.0508 - val_acc: 0.9899\n",
      "Epoch 24/30\n",
      "60000/60000 [==============================] - 4s 68us/sample - loss: 0.0189 - acc: 0.9944 - val_loss: 0.0397 - val_acc: 0.9908\n",
      "Epoch 25/30\n",
      "60000/60000 [==============================] - 4s 67us/sample - loss: 0.0167 - acc: 0.9948 - val_loss: 0.0446 - val_acc: 0.9907\n",
      "Epoch 26/30\n",
      "60000/60000 [==============================] - 4s 68us/sample - loss: 0.0199 - acc: 0.9943 - val_loss: 0.0536 - val_acc: 0.9899\n",
      "Epoch 27/30\n",
      "60000/60000 [==============================] - 4s 68us/sample - loss: 0.0186 - acc: 0.9944 - val_loss: 0.0490 - val_acc: 0.9903\n",
      "Epoch 28/30\n",
      "60000/60000 [==============================] - 4s 67us/sample - loss: 0.0186 - acc: 0.9944 - val_loss: 0.0440 - val_acc: 0.9910\n",
      "Epoch 29/30\n",
      "60000/60000 [==============================] - 4s 67us/sample - loss: 0.0201 - acc: 0.9944 - val_loss: 0.0441 - val_acc: 0.9905\n",
      "Epoch 30/30\n",
      "60000/60000 [==============================] - 4s 68us/sample - loss: 0.0196 - acc: 0.9946 - val_loss: 0.0510 - val_acc: 0.9902\n"
     ]
    }
   ],
   "source": [
    "# %load solutions/mnist_conv_architecture.py\n",
    "model = km.Sequential()\n",
    "model.add(kl.Conv2D(32, kernel_size=(3, 3), activation='relu', input_shape=(28,28, 1), data_format=\"channels_last\"))\n",
    "model.add(kl.Conv2D(64, (3, 3), activation='relu'))\n",
    "model.add(kl.MaxPooling2D(pool_size=(2, 2)))\n",
    "model.add(kl.Dropout(0.25))\n",
    "model.add(kl.Flatten())\n",
    "model.add(kl.Dense(128, activation='relu'))\n",
    "model.add(kl.Dropout(0.5))\n",
    "model.add(kl.Dense(N_classes, activation='softmax'))\n",
    "# Résumé\n",
    "model.summary()\n",
    "# Apprentissage\n",
    "model.compile(loss=\"sparse_categorical_crossentropy\",\n",
    "              optimizer=ko.Adadelta(),\n",
    "              metrics=['accuracy'])\n",
    "ts=time.time()\n",
    "model.fit(X_train_conv, Y_train,\n",
    "          batch_size=batch_size,\n",
    "          epochs=epochs,\n",
    "          verbose=1,\n",
    "          validation_data=(X_test_conv, Y_test))\n",
    "te=time.time()\n",
    "t_train_conv = te-ts"
   ]
  },
  {
   "cell_type": "code",
   "execution_count": 33,
   "metadata": {},
   "outputs": [
    {
     "name": "stdout",
     "output_type": "stream",
     "text": [
      "Test loss: 0.051011668802719574\n",
      "Test accuracy: 0.9902\n",
      "Time Running: 121.69 seconds\n"
     ]
    },
    {
     "data": {
      "image/png": "[encoded data removed]",
      "text/plain": [
       "<Figure size 504x432 with 2 Axes>"
      ]
     },
     "metadata": {
      "needs_background": "light"
     },
     "output_type": "display_data"
    }
   ],
   "source": [
    "score_conv = model.evaluate(X_test_conv, Y_test, verbose=0)\n",
    "predict_conv = model.predict(X_test_conv)\n",
    "print('Test loss:', score_conv[0])\n",
    "print('Test accuracy:', score_conv[1])\n",
    "print(\"Time Running: %.2f seconds\" %t_train_conv )\n",
    "\n",
    "fig=plt.figure(figsize=(7,6))\n",
    "ax = fig.add_subplot(1,1,1)\n",
    "ax = sb.heatmap(pd.DataFrame(confusion_matrix(Y_test, predict_conv.argmax(1))), annot=True, fmt=\"d\")"
   ]
  },
  {
   "cell_type": "markdown",
   "metadata": {},
   "source": [
    "**Q** Comment the results.\n",
    "\n",
    "**Q** How to improve them?"
   ]
  },
  {
   "cell_type": "code",
   "execution_count": null,
   "metadata": {
    "collapsed": true
   },
   "outputs": [],
   "source": []
  }
 ],
 "metadata": {
  "hide_input": false,
  "kernelspec": {
   "display_name": "Python (GPU)",
   "language": "python",
   "name": "gpu"
  },
  "language_info": {
   "codemirror_mode": {
    "name": "ipython",
    "version": 3
   },
   "file_extension": ".py",
   "mimetype": "text/x-python",
   "name": "python",
   "nbconvert_exporter": "python",
   "pygments_lexer": "ipython3",
   "version": "3.7.3"
  },
  "latex_envs": {
   "LaTeX_envs_menu_present": true,
   "autoclose": false,
   "autocomplete": true,
   "bibliofile": "biblio.bib",
   "cite_by": "apalike",
   "current_citInitial": 1,
   "eqLabelWithNumbers": true,
   "eqNumInitial": 1,
   "hotkeys": {
    "equation": "Ctrl-E",
    "itemize": "Ctrl-I"
   },
   "labels_anchors": false,
   "latex_user_defs": false,
   "report_style_numbering": false,
   "user_envs_cfg": false
  },
  "toc": {
   "nav_menu": {},
   "number_sections": true,
   "sideBar": true,
   "skip_h1_title": false,
   "toc_cell": false,
   "toc_position": {},
   "toc_section_display": "block",
   "toc_window_display": true
  }
 },
 "nbformat": 4,
 "nbformat_minor": 4
}
